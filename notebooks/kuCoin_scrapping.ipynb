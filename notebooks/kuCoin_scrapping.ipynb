{
 "cells": [
  {
   "cell_type": "code",
   "execution_count": null,
   "metadata": {},
   "outputs": [],
   "source": [
    "import requests\n",
    "import os\n",
    "\n",
    "def download_trades_data(base_url, currency_pair):\n",
    "    for month in range(1, 12):  # From January (01) to November (11)\n",
    "        month_str = str(month).zfill(2)\n",
    "\n",
    "        for day in range(1, 32):  # Assuming up to 31 days in a month\n",
    "            day_str = str(day).zfill(2)\n",
    "            filename = f\"{currency_pair}-trades-2023-{month_str}-{day_str}.zip\"\n",
    "            url = f\"{base_url}{filename}\"\n",
    "            response = requests.get(url)\n",
    "\n",
    "            if response.status_code == 200:\n",
    "                save_path = f\"../../data/{currency_pair}/KuCoin/{filename}\"\n",
    "                os.makedirs(os.path.dirname(save_path), exist_ok=True)\n",
    "\n",
    "                with open(save_path, \"wb\") as f:\n",
    "                    f.write(response.content)"
   ]
  },
  {
   "cell_type": "markdown",
   "metadata": {},
   "source": [
    "## SOLUSDT scrapping"
   ]
  },
  {
   "cell_type": "code",
   "execution_count": null,
   "metadata": {},
   "outputs": [],
   "source": [
    "base_url_sol = \"https://historical-data.kucoin.com/data/spot/daily/trades/SOLUSDT/\"\n",
    "currency_pair_sol = \"SOLUSDT\"\n",
    "download_trades_data(base_url_sol, currency_pair_sol)"
   ]
  },
  {
   "cell_type": "markdown",
   "metadata": {},
   "source": [
    "## BTCUSDT scrapping"
   ]
  },
  {
   "cell_type": "code",
   "execution_count": null,
   "metadata": {},
   "outputs": [],
   "source": [
    "base_url_btc = \"https://historical-data.kucoin.com/data/spot/daily/trades/BTCUSDT/\"\n",
    "currency_pair_btc = \"BTCUSDT\"\n",
    "download_trades_data(base_url_btc, currency_pair_btc)"
   ]
  }
 ],
 "metadata": {
  "kernelspec": {
   "display_name": "myenv",
   "language": "python",
   "name": "python3"
  },
  "language_info": {
   "codemirror_mode": {
    "name": "ipython",
    "version": 3
   },
   "file_extension": ".py",
   "mimetype": "text/x-python",
   "name": "python",
   "nbconvert_exporter": "python",
   "pygments_lexer": "ipython3",
   "version": "3.9.16"
  }
 },
 "nbformat": 4,
 "nbformat_minor": 2
}
