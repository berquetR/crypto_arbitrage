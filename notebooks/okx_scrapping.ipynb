{
 "cells": [
  {
   "cell_type": "code",
   "execution_count": null,
   "metadata": {},
   "outputs": [],
   "source": [
    "import requests\n",
    "import os\n",
    "\n",
    "base_url = \"https://www.okx.com/cdn/okex/traderecords/trades/monthly/\"\n",
    "\n",
    "for month in range(1, 12):  # From January (02) to November (11)\n",
    "    month_str = str(month).zfill(2)\n",
    "    url_prefix = f\"{base_url}2023{month_str}/allspot-trades-2023-{month_str}-\"\n",
    "\n",
    "    for day in range(1, 32):  # Assuming up to 31 days in a month\n",
    "        day_str = str(day).zfill(2)\n",
    "        url = f\"{url_prefix}{day_str}.zip\"\n",
    "        response = requests.get(url)\n",
    "\n",
    "        if response.status_code == 200:\n",
    "            save_path = f\"../../data/OKX/allspot-trades-2023-{month_str}-{day_str}.zip\"\n",
    "            os.makedirs(os.path.dirname(save_path), exist_ok=True)\n",
    "\n",
    "            with open(save_path, \"wb\") as f:\n",
    "                f.write(response.content)"
   ]
  }
 ],
 "metadata": {
  "kernelspec": {
   "display_name": "myenv",
   "language": "python",
   "name": "python3"
  },
  "language_info": {
   "codemirror_mode": {
    "name": "ipython",
    "version": 3
   },
   "file_extension": ".py",
   "mimetype": "text/x-python",
   "name": "python",
   "nbconvert_exporter": "python",
   "pygments_lexer": "ipython3",
   "version": "3.9.18"
  }
 },
 "nbformat": 4,
 "nbformat_minor": 2
}
