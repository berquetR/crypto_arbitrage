{
 "cells": [
  {
   "cell_type": "code",
   "execution_count": 1,
   "metadata": {},
   "outputs": [],
   "source": [
    "import pandas as pd\n",
    "import numpy as np\n",
    "import matplotlib.pyplot as plt\n",
    "import seaborn as sns"
   ]
  },
  {
   "cell_type": "code",
   "execution_count": null,
   "metadata": {},
   "outputs": [],
   "source": [
    "binance_df = pd.read_csv('../data/csv/Binance.csv')\n",
    "bybit_df = pd.read_csv('../data/csv/bybit.csv')\n",
    "kucoin_df = pd.read_csv('../data/csv/kuCoin.csv')\n",
    "okx_df = pd.read_csv('../data/csv/okx.csv')"
   ]
  },
  {
   "cell_type": "markdown",
   "metadata": {},
   "source": [
    "# 2. Data cleaning"
   ]
  },
  {
   "cell_type": "code",
   "execution_count": 3,
   "metadata": {},
   "outputs": [],
   "source": [
    "#replace string time by datetime\n",
    "binance_df['time'] = pd.to_datetime(binance_df['time'])\n",
    "bybit_df['time'] = pd.to_datetime(bybit_df['time'])\n",
    "kucoin_df['time'] = pd.to_datetime(kucoin_df['time'])\n",
    "okx_df['time'] = pd.to_datetime(okx_df['time'])"
   ]
  },
  {
   "cell_type": "code",
   "execution_count": null,
   "metadata": {},
   "outputs": [],
   "source": [
    "#check wether values for quantity and price are numeric\n",
    "print(binance_df.dtypes)\n",
    "print(bybit_df.dtypes)\n",
    "print(kucoin_df.dtypes)\n",
    "print(okx_df.dtypes)"
   ]
  },
  {
   "cell_type": "code",
   "execution_count": null,
   "metadata": {},
   "outputs": [],
   "source": [
    "#check for missing values\n",
    "print(binance_df.isnull().sum())\n",
    "print(bybit_df.isnull().sum())\n",
    "print(kucoin_df.isnull().sum())\n",
    "print(okx_df.isnull().sum())"
   ]
  },
  {
   "cell_type": "code",
   "execution_count": null,
   "metadata": {},
   "outputs": [],
   "source": [
    "#Plot the price of the 4 exchanges on different subplots\n",
    "fig, axs = plt.subplots(4, 1, figsize=(15, 15) , sharey=True , sharex=True)\n",
    "axs[0].plot(binance_df['time'], binance_df['price'])\n",
    "axs[0].set_title('Binance')\n",
    "axs[1].plot(bybit_df['time'], bybit_df['price'])\n",
    "axs[1].set_title('Bybit')\n",
    "axs[2].plot(kucoin_df['time'], kucoin_df['price'])\n",
    "axs[2].set_title('Kucoin')\n",
    "axs[3].plot(okx_df['time'], okx_df['price'])\n",
    "axs[3].set_title('Okx')\n",
    "plt.xlabel('Time')\n",
    "plt.ylabel('Price')\n",
    "plt.show()\n"
   ]
  },
  {
   "cell_type": "code",
   "execution_count": null,
   "metadata": {},
   "outputs": [],
   "source": [
    "#Remove trades with very low price (outliers) in okx\n",
    "okx_df['price'].describe()"
   ]
  },
  {
   "cell_type": "code",
   "execution_count": null,
   "metadata": {},
   "outputs": [],
   "source": [
    "okx_df[okx_df.price < 5]['price'].describe()"
   ]
  },
  {
   "cell_type": "markdown",
   "metadata": {},
   "source": [
    "Weird prices for Okx : filter out these trades as they will bias our statistical analysis."
   ]
  },
  {
   "cell_type": "code",
   "execution_count": 3,
   "metadata": {},
   "outputs": [],
   "source": [
    "okx_df  = okx_df[okx_df.price > 5]"
   ]
  },
  {
   "cell_type": "code",
   "execution_count": null,
   "metadata": {},
   "outputs": [],
   "source": [
    "#Save the cleaned dataframes\n",
    "binance_df.to_csv('../../data/csv/Binance.csv')\n",
    "bybit_df.to_csv('../../data/csv/bybit.csv')\n",
    "kucoin_df.to_csv('../../data/csv/kuCoin.csv')\n",
    "okx_df.to_csv('../../data/csv/okx.csv')"
   ]
  },
  {
   "cell_type": "markdown",
   "metadata": {},
   "source": [
    "# 3. Data Exploration"
   ]
  },
  {
   "cell_type": "markdown",
   "metadata": {},
   "source": [
    "#### Trading volume stats"
   ]
  },
  {
   "cell_type": "code",
   "execution_count": null,
   "metadata": {},
   "outputs": [],
   "source": [
    "import matplotlib.pyplot as plt\n",
    "\n",
    "# Resample the dataframes to get the number of trades per day\n",
    "binance_daily = binance_df.resample('D', on='time').size()\n",
    "bybit_daily = bybit_df.resample('D', on='time').size()\n",
    "kucoin_daily = kucoin_df.resample('D', on='time').size()\n",
    "okx_daily = okx_df.resample('D', on='time').size()\n",
    "\n",
    "# Plot the data\n",
    "plt.figure(figsize=(10,6))\n",
    "plt.plot(binance_daily.index, binance_daily.values, label='Binance')\n",
    "plt.plot(bybit_daily.index, bybit_daily.values, label='Bybit')\n",
    "plt.plot(kucoin_daily.index, kucoin_daily.values, label='KuCoin')\n",
    "plt.plot(okx_daily.index, okx_daily.values, label='OKX')\n",
    "\n",
    "plt.title('Number of trades per day')\n",
    "plt.xlabel('Date')\n",
    "plt.ylabel('Number of trades')\n",
    "plt.legend()\n",
    "\n",
    "plt.show()"
   ]
  },
  {
   "cell_type": "markdown",
   "metadata": {},
   "source": [
    "#### Price stats"
   ]
  },
  {
   "cell_type": "code",
   "execution_count": null,
   "metadata": {},
   "outputs": [],
   "source": [
    "# Define a function to calculate the statistics for a dataframe\n",
    "def calculate_statistics(df, name):\n",
    "    # Convert the 'time' column to datetime and set it as the index\n",
    "    df['time'] = pd.to_datetime(df['time'])\n",
    "    df = df.set_index('time')\n",
    "    \n",
    "    # Calculate the volume of each trade\n",
    "    df['volume'] = df['price'] * df['qty']\n",
    "    \n",
    "    # Calculate the daily statistics\n",
    "    daily = df.resample('D')\n",
    "    avg_daily_volume = daily['volume'].sum().mean() / 1_000_000  # in millions\n",
    "    avg_daily_trades = daily.size().mean() / 1_000  # per thousands\n",
    "    avg_trade_size = df['qty'].mean()\n",
    "    avg_daily_volatility = daily['price'].std().mean()\n",
    "    \n",
    "    # Return the statistics as a series\n",
    "    return pd.Series({\n",
    "        'Average daily volume (millions $)': avg_daily_volume,\n",
    "        'Average daily number of trades (thousands)': avg_daily_trades,\n",
    "        'Average trade size': avg_trade_size,\n",
    "        'Average daily volatility': avg_daily_volatility,\n",
    "    }, name=name)\n",
    "\n",
    "# Calculate the statistics for each dataset\n",
    "binance_stats = binance_df.copy()\n",
    "binance_stats = calculate_statistics(binance_stats, 'Binance')\n",
    "bybit_stats = bybit_df.copy()\n",
    "bybit_stats = calculate_statistics(bybit_stats, 'Bybit')\n",
    "kucoin_stats = kucoin_df.copy()\n",
    "kucoin_stats = calculate_statistics(kucoin_stats, 'KuCoin')\n",
    "okx_stats = okx_df.copy()\n",
    "okx_stats = calculate_statistics(okx_stats, 'OKX')\n",
    "\n",
    "# Combine the statistics into a dataframe\n",
    "stats_df = pd.concat([binance_stats, bybit_stats, kucoin_stats, okx_stats], axis=1)\n",
    "\n",
    "# Print the statistics\n",
    "print(stats_df)"
   ]
  },
  {
   "cell_type": "markdown",
   "metadata": {},
   "source": [
    "#### Return stats"
   ]
  },
  {
   "cell_type": "code",
   "execution_count": null,
   "metadata": {},
   "outputs": [],
   "source": [
    "def calculate_returns(data, period):\n",
    "    resampled_data = data['price'].resample(period).last()  # Resample and take the last price of each period\n",
    "    returns = resampled_data.pct_change()  # Calculate percentage change\n",
    "    return returns.dropna() "
   ]
  },
  {
   "cell_type": "code",
   "execution_count": null,
   "metadata": {},
   "outputs": [],
   "source": [
    "def compute_price_dynamics_stats(df, name) :\n",
    "\n",
    "    #compute 5-min returns\n",
    "    five_min_returns = calculate_returns(df, '5T')\n",
    "\n",
    "    #compute 1-hour returns\n",
    "    one_hour_returns = calculate_returns(df, '1H')\n",
    "    \n",
    "    #compute daily returns\n",
    "    daily_returns = calculate_returns(df, 'D')\n",
    "\n",
    "    #compute annualized volatility\n",
    "    annualized_daily_return_vol = daily_returns.std() * np.sqrt(365)\n",
    "    annualized_5_min_return_vol = five_min_returns.std() * np.sqrt(365*24*12)\n",
    "    annualized_hourly_return_vol = one_hour_returns.std() * np.sqrt(365*24)\n",
    "\n",
    "    #compute skewness\n",
    "    daily_returns_skew = daily_returns.skew()\n",
    "    five_min_returns_skew = five_min_returns.skew()\n",
    "    hourly_returns_skew = one_hour_returns.skew()\n",
    "\n",
    "    #compute kurtosis\n",
    "    daily_returns_kurt = daily_returns.kurtosis()\n",
    "    five_min_returns_kurt = five_min_returns.kurtosis()\n",
    "    hourly_returns_kurt = one_hour_returns.kurtosis()\n",
    "\n",
    "    #auto-correlation 1 lag\n",
    "    daily_returns_autocorr = daily_returns.autocorr()\n",
    "    five_min_returns_autocorr = five_min_returns.autocorr()\n",
    "    hourly_returns_autocorr = one_hour_returns.autocorr()\n",
    "\n",
    "    #auto-correlation 2 lags\n",
    "    daily_returns_autocorr_2 = daily_returns.autocorr(2)\n",
    "    five_min_returns_autocorr_2 = five_min_returns.autocorr(2)\n",
    "    hourly_returns_autocorr_2 = one_hour_returns.autocorr(2)\n",
    "\n",
    "    #auto-correlation 3 lags\n",
    "    daily_returns_autocorr_3 = daily_returns.autocorr(3)\n",
    "    five_min_returns_autocorr_3 = five_min_returns.autocorr(3)\n",
    "    hourly_returns_autocorr_3 = one_hour_returns.autocorr(3)\n",
    "\n",
    "    series = pd.Series({\n",
    "        'volatility': [annualized_5_min_return_vol , annualized_hourly_return_vol, annualized_daily_return_vol],\n",
    "        'skewness': [five_min_returns_skew, hourly_returns_skew, daily_returns_skew],\n",
    "        'kurtosis': [five_min_returns_kurt, hourly_returns_kurt, daily_returns_kurt],\n",
    "        'autocorr': [five_min_returns_autocorr, hourly_returns_autocorr, daily_returns_autocorr],\n",
    "        'autocorr_2': [five_min_returns_autocorr_2, hourly_returns_autocorr_2, daily_returns_autocorr_2],\n",
    "        'autocorr_3': [five_min_returns_autocorr_3, hourly_returns_autocorr_3, daily_returns_autocorr_3]\n",
    "    }, name=name)\n",
    "\n",
    "    stats = pd.DataFrame({stat: series[stat] for stat in series.index})\n",
    "    stats.index = ['5min', 'hourly', 'daily']\n",
    "    return stats"
   ]
  },
  {
   "cell_type": "code",
   "execution_count": null,
   "metadata": {},
   "outputs": [],
   "source": [
    "binance_price_stats = binance_df.copy().set_index('time')\n",
    "binance_price_stats_df = compute_price_dynamics_stats(binance_price_stats, 'Binance')\n",
    "\n",
    "bybit_price_stats = bybit_df.copy().set_index('time')\n",
    "bybit_price_stats_df = compute_price_dynamics_stats(bybit_price_stats, 'Bybit')\n",
    "\n",
    "kucoin_price_stats = kucoin_df.copy().set_index('time')\n",
    "kucoin_price_stats_df = compute_price_dynamics_stats(kucoin_price_stats, 'KuCoin')\n",
    "\n",
    "okx_price_stats = okx_df.copy().set_index('time')\n",
    "okx_price_stats_df = compute_price_dynamics_stats(okx_price_stats, 'OKX')"
   ]
  },
  {
   "cell_type": "code",
   "execution_count": null,
   "metadata": {},
   "outputs": [],
   "source": [
    "average_price_stats_df = (binance_price_stats_df + bybit_price_stats_df + kucoin_price_stats_df + okx_price_stats_df) / 4\n",
    "\n",
    "#round to 2 decimals\n",
    "average_price_stats_df = average_price_stats_df.round(2)\n",
    "average_price_stats_df"
   ]
  }
 ],
 "metadata": {
  "kernelspec": {
   "display_name": "myenv",
   "language": "python",
   "name": "python3"
  },
  "language_info": {
   "codemirror_mode": {
    "name": "ipython",
    "version": 3
   },
   "file_extension": ".py",
   "mimetype": "text/x-python",
   "name": "python",
   "nbconvert_exporter": "python",
   "pygments_lexer": "ipython3",
   "version": "3.9.16"
  }
 },
 "nbformat": 4,
 "nbformat_minor": 2
}
